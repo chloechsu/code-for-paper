{
 "cells": [
  {
   "cell_type": "code",
   "execution_count": 1,
   "metadata": {},
   "outputs": [],
   "source": [
    "import os\n",
    "import sys\n",
    "\n",
    "import seaborn as sns\n",
    "import numpy as np\n",
    "import matplotlib\n",
    "import matplotlib.pyplot as plt\n",
    "import torch\n",
    "import pandas as pd\n",
    "import pickle\n",
    "from scipy.stats import norm\n",
    "\n",
    "from utils import compare\n",
    "from envs import SingleSmallPeakEnv"
   ]
  },
  {
   "cell_type": "code",
   "execution_count": 2,
   "metadata": {},
   "outputs": [],
   "source": [
    "def filter_df(df, **kwargs):\n",
    "    for k,v in kwargs.items():\n",
    "        df = df[df[k] == v]\n",
    "    return df"
   ]
  },
  {
   "cell_type": "code",
   "execution_count": null,
   "metadata": {},
   "outputs": [
    {
     "name": "stderr",
     "output_type": "stream",
     "text": [
      "/home/eecs/chloehsu/.local/lib/python3.6/site-packages/gym/logger.py:30: UserWarning: \u001b[33mWARN: Box bound precision lowered by casting to float32\u001b[0m\n",
      "  warnings.warn(colorize('%s: %s'%('WARN', msg % args), 'yellow'))\n"
     ]
    }
   ],
   "source": [
    "env = SingleSmallPeakEnv(noise_std=0.1)\n",
    "data_gaussian = compare(env, 'gaussian', n_steps=100, repeats=20,\n",
    "               lr=1e-1, batch_size=16*32, num_minibatches=16, ppo_epochs=10)\n",
    "data_gaussian['mean'] = data_gaussian['pd_param_0_mean']\n",
    "data_gaussian['std'] = data_gaussian['pd_param_1_mean']\n",
    "with open('single_peak_gaussian.pkl', 'wb') as f:\n",
    "    pickle.dump(data_gaussian, f)"
   ]
  },
  {
   "cell_type": "code",
   "execution_count": null,
   "metadata": {
    "scrolled": true
   },
   "outputs": [],
   "source": [
    "env = SingleSmallPeakEnv(noise_std=0.1)\n",
    "data_beta = compare(env, 'beta', n_steps=100, repeats=20,\n",
    "                    lr=1e-1, batch_size=16*32, num_minibatches=16, ppo_epochs=10)\n",
    "\n",
    "a = data_beta['pd_param_0_mean']\n",
    "b = data_beta['pd_param_1_mean']\n",
    "data_beta['mean'] = a / (a + b)\n",
    "data_beta['std'] = (a * b / (a + b + 1)).apply(np.sqrt) / (a + b)\n",
    "# Scale it to the action space\n",
    "low = env.action_space.low\n",
    "high = env.action_space.high\n",
    "data_beta['mean'] = data_beta['mean'] * (high-low) + low\n",
    "data_beta['std'] = data_beta['std'] * (high-low)\n",
    "with open('single_peak_beta.pkl', 'wb') as f:\n",
    "    pickle.dump(data_beta, f)"
   ]
  },
  {
   "cell_type": "code",
   "execution_count": null,
   "metadata": {
    "scrolled": true
   },
   "outputs": [],
   "source": [
    "# Discretize in intervals of 0.1 between -1.5 and 1.5\n",
    "# two high reward blocks in -1.0 - -0.8\n",
    "avg_rewards = 0.1 * np.random.randn(30)\n",
    "avg_rewards[:2] = 1.0\n",
    "env = DiscreteBanditEnv(avg_rewards=avg_rewards)\n",
    "data_discrete = compare(env, 'discrete', n_steps=100, repeats=20,\n",
    "                        lr=1e-1, batch_size=16*32, num_minibatches=16, ppo_epochs=10)\n",
    "with open('single_peak_discrete.pkl', 'wb') as f:\n",
    "    pickle.dump(data_discrete, f)"
   ]
  },
  {
   "cell_type": "code",
   "execution_count": null,
   "metadata": {},
   "outputs": [],
   "source": [
    "%matplotlib inline"
   ]
  },
  {
   "cell_type": "markdown",
   "metadata": {},
   "source": [
    "# Figure 1"
   ]
  },
  {
   "cell_type": "markdown",
   "metadata": {},
   "source": [
    "For clearity in visualization, we only plot the first run in Figure 1, but the failure mode happens consistently in many runs. The exact visualization of each failure run is different, but they all have the same failure mode pattern of the mean drifting away."
   ]
  },
  {
   "cell_type": "code",
   "execution_count": null,
   "metadata": {},
   "outputs": [],
   "source": [
    "sns.set(style='white', rc={\n",
    "    'figure.figsize':(12,8),\n",
    "    'legend.fontsize': 'large',\n",
    "    'legend.title_fontsize': 'large',\n",
    "    'axes.labelsize': 'large',\n",
    "    'axes.titlesize':'large',\n",
    "    'xtick.labelsize':'medium',\n",
    "    'ytick.labelsize':'medium',\n",
    "    'font.family': 'sans-serif',\n",
    "    'font.sans-serif': 'Lucida Grande'\n",
    "})\n",
    "\n",
    "niters = 20\n",
    "data = filter_df(data_gaussian, method='Clipping').iloc[:niters]\n",
    "fig, axes = plt.subplots(1, 1, figsize=(6, 4), sharex=True)\n",
    "sns.lineplot(data=data, x='iter', y='mean_reward', hue='method', ax=axes, n_boot=n_boot)\n",
    "axes.set_ylabel('Mean Reward', labelpad=0)\n",
    "axes.set_xlim([0, niters])\n",
    "axes.set_ylim([-0.2, 1.2])\n",
    "axes.set_xlabel('# Iterations')\n",
    "from matplotlib.lines import Line2D\n",
    "axes.hlines(1.0, 0, 20, colors='red', linestyles='dashed')\n",
    "redline = Line2D([0], [0], color='red', ls='dashed', lw=2)\n",
    "#blueine = Line2D([0], [0], color='darkblue', lw=1)\n",
    "handles, labels = axes.get_legend_handles_labels()\n",
    "handles=[handles[1], redline]\n",
    "labels=['PPO (clipped obj)','Optimal']\n",
    "axes.get_legend().remove()\n",
    "fig.legend(handles, labels, ncol=2, loc='upper center')\n",
    "plt.show()"
   ]
  },
  {
   "cell_type": "code",
   "execution_count": null,
   "metadata": {},
   "outputs": [],
   "source": [
    "def reward_scalar(x):\n",
    "    if x > -1.0 and x < -0.8:\n",
    "        return 1.0 + 0.1 * np.random.randn()\n",
    "    return 0.1 * np.random.randn()\n",
    "\n",
    "reward = np.vectorize(reward_scalar)\n",
    "\n",
    "\n",
    "fig, axes = plt.subplots(1, 2, figsize=(12, 4), sharey=False)\n",
    "y1 = -2.5\n",
    "y2 = 5\n",
    "niters = 15\n",
    "nbins = 201\n",
    "x = np.linspace(y1, y2, 50)\n",
    "axes[0].set_ylim([y1, y2])\n",
    "axes[0].set_ylabel('Action Space')\n",
    "axes[0].set_title('Reward Landscape')\n",
    "axes[0].set_xlabel('Reward')\n",
    "axes[0].plot(reward(x), x,\n",
    "             linestyle='--', label='Reward function', alpha=1)\n",
    "axes[1].set_ylim([y1, y2])\n",
    "ax1_twin = axes[1].twinx()\n",
    "ax1_twin.set_ylim([y1, y2])\n",
    "x = np.linspace(y1, y2, nbins)\n",
    "binwidth = (x[1]-x[0])\n",
    "heatmap = np.zeros((niters, nbins))\n",
    "for i in range(niters):\n",
    "    mean = data[data.iter == i]['mean'].values.item()\n",
    "    std = data[data.iter == i]['std'].values.item()\n",
    "    rv = norm(loc=mean, scale=std)\n",
    "    heatmap[i, :] = np.log(1e-6 + rv.cdf(x + binwidth/2) - rv.cdf(x - binwidth/2))\n",
    "#yticklabels = [xx.round(2) if i % 5 == 0 else ''  for i, xx in enumerate(x)]\n",
    "sns.heatmap(np.flip(heatmap.T, axis=0), ax=axes[1], square=False, cmap=sns.cm.rocket_r, vmin=-8, vmax=1.0,\n",
    "            cbar=False, annot=False)\n",
    "ax1_twin.plot(data[data.iter < niters].iter + 0.25,\n",
    "              data[data.iter < niters]['mean'], label='Policy Mean')\n",
    "#ax1_twin.hlines(2.5, 0, 20, color='black')\n",
    "axes[1].get_yaxis().set_ticks([])\n",
    "axes[1].set_title('Learned Gaussian Policy')\n",
    "axes[1].set_xlabel('# Iterations')\n",
    "\n",
    "\n",
    "fig.align_ylabels(axes)\n",
    "fig.subplots_adjust(wspace=0.1)\n",
    "handles, labels = ax1_twin.get_legend_handles_labels()\n",
    "fig.legend(handles, labels, loc=(0.55, 0.8), ncol=3)\n",
    "plt.show()"
   ]
  },
  {
   "cell_type": "markdown",
   "metadata": {},
   "source": [
    "# Figure 8"
   ]
  },
  {
   "cell_type": "code",
   "execution_count": null,
   "metadata": {},
   "outputs": [],
   "source": [
    "sns.set(style='whitegrid', rc={\n",
    "    'figure.figsize':(12,8),\n",
    "    'legend.fontsize': 'large',\n",
    "    'legend.title_fontsize': 'large',\n",
    "    'axes.labelsize': 'large',\n",
    "    'axes.titlesize':'large',\n",
    "    'xtick.labelsize':'medium',\n",
    "    'ytick.labelsize':'medium',\n",
    "    'font.family': 'sans-serif',\n",
    "    'font.sans-serif': 'Lucida Grande'\n",
    "})\n",
    "\n",
    "\n",
    "n_boot = 10\n",
    "\n",
    "data_gaussian = filter_df(data_gaussian, method='Clipping')\n",
    "data_beta = filter_df(data_beta, method='Clipping')\n",
    "data_discrete = filter_df(data_discrete, method='Clipping')\n",
    "data_kl_rev = filter_df(data_gaussian_kl, method='Reverse KL')\n",
    "data_kl_for = filter_df(data_gaussian_kl, method='Forward KL')\n",
    "\n",
    "fig, axes = plt.subplots(1, 1, figsize=(8, 4), sharex=True, sharey='row')\n",
    "sns.lineplot(data=data_gaussian, x='iter', y='mean_reward', ax=axes, n_boot=n_boot,\n",
    "            label='Gaussian + Clip')\n",
    "sns.lineplot(data=data_beta, x='iter', y='mean_reward',ax=axes, n_boot=n_boot,\n",
    "            label='Beta + Clip')\n",
    "sns.lineplot(data=data_discrete, x='iter', y='mean_reward',ax=axes, n_boot=n_boot,\n",
    "            label='Discretized + Clip')\n",
    "sns.lineplot(data=data_kl_rev, x='iter', y='mean_reward',ax=axes, n_boot=n_boot,\n",
    "            label='Gaussian + KL')\n",
    "#sns.lineplot(data=data_kl_for, x='iter', y='mean_reward',ax=axes, n_boot=n_boot,\n",
    "#            label='Gaussian + Forward KL')\n",
    "axes.set_ylabel('Mean Reward')\n",
    "handles, labels = axes.get_legend_handles_labels()\n",
    "axes.get_legend().remove()\n",
    "axes.set_xlabel('# Iterations')\n",
    "axes.set_ylim([0, 1.1])\n",
    "\n",
    "from matplotlib.lines import Line2D\n",
    "axes.hlines(1.0, 0, 100, colors='red', linestyles='dashed')\n",
    "redline = Line2D([0], [0], color='red', ls='dashed', lw=2, label='Optimal Reward')\n",
    "fig.align_ylabels(axes)\n",
    "fig.legend(handles + [redline], labels+['Optimal Reward'],\n",
    "           loc=(0.605,0.3), ncol=1)\n",
    "\n",
    "fig.suptitle('Performance on 1D Non-Smooth Reward Env')\n",
    "plt.show()"
   ]
  },
  {
   "cell_type": "code",
   "execution_count": null,
   "metadata": {},
   "outputs": [],
   "source": []
  }
 ],
 "metadata": {
  "kernelspec": {
   "display_name": "Python 3",
   "language": "python",
   "name": "python3"
  },
  "language_info": {
   "codemirror_mode": {
    "name": "ipython",
    "version": 3
   },
   "file_extension": ".py",
   "mimetype": "text/x-python",
   "name": "python",
   "nbconvert_exporter": "python",
   "pygments_lexer": "ipython3",
   "version": "3.6.9"
  }
 },
 "nbformat": 4,
 "nbformat_minor": 4
}
