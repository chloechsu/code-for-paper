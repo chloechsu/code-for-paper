{
 "cells": [
  {
   "cell_type": "code",
   "execution_count": 1,
   "metadata": {},
   "outputs": [],
   "source": [
    "import os\n",
    "import sys\n",
    "\n",
    "import seaborn as sns\n",
    "import numpy as np\n",
    "import matplotlib\n",
    "import matplotlib.pyplot as plt\n",
    "import torch\n",
    "import pandas as pd\n",
    "sns.set(style='whitegrid', rc={\n",
    "    'figure.figsize':(12,8),\n",
    "    'legend.fontsize': 'large',\n",
    "    'legend.title_fontsize': 'large',\n",
    "    'axes.labelsize': 'large',\n",
    "    'axes.titlesize':'large',\n",
    "    'xtick.labelsize':'medium',\n",
    "    'ytick.labelsize':'medium',\n",
    "    'font.family': 'sans-serif',\n",
    "    'font.sans-serif': 'Lucida Grande'\n",
    "})\n",
    "\n",
    "from simulated_utils import compare\n",
    "from simulated_utils import SinglePeakCtsBanditEnv"
   ]
  },
  {
   "cell_type": "code",
   "execution_count": 2,
   "metadata": {},
   "outputs": [],
   "source": [
    "def filter_df(df, **kwargs):\n",
    "    for k,v in kwargs.items():\n",
    "        df = df[df[k] == v]\n",
    "    return df"
   ]
  },
  {
   "cell_type": "code",
   "execution_count": null,
   "metadata": {
    "scrolled": true
   },
   "outputs": [
    {
     "name": "stderr",
     "output_type": "stream",
     "text": [
      "/home/eecs/chloehsu/.local/lib/python3.6/site-packages/gym/logger.py:30: UserWarning: \u001b[33mWARN: Box bound precision lowered by casting to float32\u001b[0m\n",
      "  warnings.warn(colorize('%s: %s'%('WARN', msg % args), 'yellow'))\n"
     ]
    }
   ],
   "source": [
    "env = SinglePeakCtsBanditEnv(noise_std=0.001)\n",
    "data_beta = compare(env, 'beta', n_steps=50, repeats=10,\n",
    "               lr=1e-1, batch_size=16*32, num_minibatches=16, ppo_epochs=10)\n",
    "\n",
    "a = data_beta['pd_param_0_mean']\n",
    "b = data_beta['pd_param_1_mean']\n",
    "data_beta['mean'] = a / (a + b)\n",
    "data_beta['std'] = (a * b / (a + b + 1)).apply(np.sqrt) / (a + b)\n",
    "# Scale it to [-3,3]\n",
    "data_beta['mean'] = data_beta['mean'] * 6 - 3\n",
    "data_beta['std'] = data_beta['std'] * 6"
   ]
  },
  {
   "cell_type": "code",
   "execution_count": null,
   "metadata": {},
   "outputs": [],
   "source": [
    "env = SinglePeakCtsBanditEnv(noise_std=0.001)\n",
    "data_gaussian = compare(env, 'gaussian', n_steps=50, repeats=10,\n",
    "               lr=1e-1, batch_size=16*32, num_minibatches=16, ppo_epochs=10)\n",
    "data_gaussian['mean'] = data_gaussian['pd_param_0_mean']\n",
    "data_gaussian['std'] = data_gaussian['pd_param_1_mean']"
   ]
  },
  {
   "cell_type": "code",
   "execution_count": null,
   "metadata": {},
   "outputs": [],
   "source": [
    "def plot_results(data_gaussian, data_beta, n_boot=1000):\n",
    "    fig, axes = plt.subplots(2, 3, figsize=(10, 6.5), sharex=True)\n",
    "    fig.subplots_adjust(left=-0.4)\n",
    "    sns.lineplot(data=data_gaussian, x='iter', y='mean_reward', hue='method', ax=axes[0][0], n_boot=n_boot)\n",
    "    axes[0][0].set_title('Mean Reward')\n",
    "    axes[0][0].set_ylabel('Reward')\n",
    "    sns.lineplot(data=data_gaussian, x='iter', y='mean', hue='method', ax=axes[0][1], n_boot=n_boot)\n",
    "    axes[0][1].set_title('Action Distribution, Mean')\n",
    "    axes[0][1].set_ylabel('Mean')\n",
    "    axes[0][1].set_ylim([0, 3])\n",
    "    sns.lineplot(data=data_gaussian, x='iter', y='std', hue='method', ax=axes[0][2], n_boot=n_boot)\n",
    "    axes[0][2].set_title('Action Distribution, Stddev')\n",
    "    axes[0][2].set_ylabel('Stddev')\n",
    "    axes[0][2].set_ylim([0,1])\n",
    "    \n",
    "    \n",
    "    sns.lineplot(data=data_beta, x='iter', y='mean_reward', hue='method', ax=axes[1][0], n_boot=n_boot)\n",
    "    axes[1][0].set_ylabel('Mean Reward')\n",
    "    sns.lineplot(data=data_beta, x='iter', y='mean', hue='method', ax=axes[1][1], n_boot=n_boot)\n",
    "    axes[1][1].set_ylabel('Mean')\n",
    "    #axes[1][1].set_ylim([0,1])\n",
    "    sns.lineplot(data=data_beta, x='iter', y='std', hue='method', ax=axes[1][2], n_boot=n_boot)\n",
    "    axes[1][2].set_ylabel('Stddev')\n",
    "    #axes[1][2].set_ylim([0,1])\n",
    "\n",
    "    handles, labels = axes.flatten()[0].get_legend_handles_labels()\n",
    "    for ax in axes.flatten():\n",
    "        ax.get_legend().remove()\n",
    "        ax.set_xlabel('# Iterations')\n",
    "    fig.legend(handles[1:], labels[1:], loc='upper center', ncol=4)\n",
    "    \n",
    "    pad = 5\n",
    "    ax = axes[0][0]\n",
    "    ax.annotate('Gaussian Policy', xy=(0, 0.5), xytext=(-ax.yaxis.labelpad - pad, 0),\n",
    "                        xycoords=ax.yaxis.label, textcoords='offset points', rotation=90,\n",
    "                        size='large', ha='right', va='center')\n",
    "    ax = axes[1][0]\n",
    "    ax.annotate('Beta Policy', xy=(0, 0.5), xytext=(-ax.yaxis.labelpad - pad, 0),\n",
    "                        xycoords=ax.yaxis.label, textcoords='offset points',\n",
    "                        size='large', ha='right', va='center', rotation=90)\n",
    "    plt.show()"
   ]
  },
  {
   "cell_type": "code",
   "execution_count": null,
   "metadata": {},
   "outputs": [],
   "source": [
    "%matplotlib inline"
   ]
  },
  {
   "cell_type": "code",
   "execution_count": null,
   "metadata": {},
   "outputs": [],
   "source": [
    "plot_results(data_gaussian[data_gaussian.method != 'Unregularized'],\n",
    "             data_beta[data_beta.method != 'Unregularized'], n_boot=1000)"
   ]
  },
  {
   "cell_type": "code",
   "execution_count": null,
   "metadata": {},
   "outputs": [],
   "source": []
  },
  {
   "cell_type": "code",
   "execution_count": null,
   "metadata": {},
   "outputs": [],
   "source": []
  }
 ],
 "metadata": {
  "kernelspec": {
   "display_name": "Python 3",
   "language": "python",
   "name": "python3"
  },
  "language_info": {
   "codemirror_mode": {
    "name": "ipython",
    "version": 3
   },
   "file_extension": ".py",
   "mimetype": "text/x-python",
   "name": "python",
   "nbconvert_exporter": "python",
   "pygments_lexer": "ipython3",
   "version": "3.6.9"
  }
 },
 "nbformat": 4,
 "nbformat_minor": 4
}
